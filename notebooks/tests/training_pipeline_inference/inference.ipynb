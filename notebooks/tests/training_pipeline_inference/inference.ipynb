{
 "cells": [
  {
   "cell_type": "markdown",
   "metadata": {},
   "source": [
    "### Configure Notebook"
   ]
  },
  {
   "cell_type": "markdown",
   "metadata": {},
   "source": [
    "#### Load Python Libraries"
   ]
  },
  {
   "cell_type": "code",
   "execution_count": 30,
   "metadata": {},
   "outputs": [],
   "source": [
    "import logging\n",
    "import os\n",
    "import sys\n",
    "import numpy as np\n",
    "\n",
    "import joblib\n",
    "import pandas as pd\n",
    "\n",
    "import joblib"
   ]
  },
  {
   "cell_type": "markdown",
   "metadata": {},
   "source": [
    "#### Define Global Variables"
   ]
  },
  {
   "cell_type": "code",
   "execution_count": 14,
   "metadata": {},
   "outputs": [],
   "source": [
    "data_dir = \"../../data/processed/\"  # The directory where the dataset is located.\n",
    "feature_columns = [\n",
    "    \"gender\",\n",
    "    \"age\",\n",
    "    \"hypertension\",\n",
    "    \"heart_disease\",\n",
    "    \"ever_married\",\n",
    "    \"work_type\",\n",
    "    \"residence_type\",\n",
    "    \"avg_glucose_level\",\n",
    "    \"bmi\",\n",
    "    \"smoking_status\",\n",
    "]  # Feature columns.\n",
    "random_state = 42  # Ensure that pipeline is reproducible."
   ]
  },
  {
   "cell_type": "markdown",
   "metadata": {},
   "source": [
    "#### Configure Logger"
   ]
  },
  {
   "cell_type": "code",
   "execution_count": 15,
   "metadata": {},
   "outputs": [],
   "source": [
    "log_format = (\n",
    "    \"[%(asctime)s] - p%(process)s %(name)s %(lineno)d - %(levelname)s:%(message)s\"\n",
    ")\n",
    "logging.basicConfig(\n",
    "    level=logging.INFO,\n",
    "    stream=sys.stdout,\n",
    "    format=log_format,\n",
    "    datefmt=\"%Y-%m-%d %H:%M:%S\",\n",
    ")\n",
    "logger = logging.getLogger()"
   ]
  },
  {
   "cell_type": "markdown",
   "metadata": {},
   "source": [
    "### Load Raw Dataset"
   ]
  },
  {
   "cell_type": "code",
   "execution_count": 16,
   "metadata": {},
   "outputs": [
    {
     "name": "stdout",
     "output_type": "stream",
     "text": [
      "[2022-06-02 23:45:18] - p96628 root 4 - INFO:Raw Dataset Number of Records: 5109\n"
     ]
    }
   ],
   "source": [
    "df_processed = pd.read_csv(\n",
    "    os.path.join(data_dir, \"stroke_records.csv\")\n",
    ")  # Load raw dataset as Pandas DataFrame.\n",
    "logger.info(f\"Raw Dataset Number of Records: {len(df_processed)}\")"
   ]
  },
  {
   "cell_type": "code",
   "execution_count": 17,
   "metadata": {},
   "outputs": [],
   "source": [
    "example_data = df_processed.head(1)  # Select first record.\n",
    "example_data = example_data[feature_columns]  # Select only feature columns."
   ]
  },
  {
   "cell_type": "code",
   "execution_count": 35,
   "metadata": {},
   "outputs": [
    {
     "name": "stdout",
     "output_type": "stream",
     "text": [
      "{'gender': 'Male', 'age': 67.0, 'hypertension': 0, 'heart_disease': 1, 'ever_married': 'Yes', 'work_type': 'Private', 'Residence_type': 'Urban', 'avg_glucose_level': 228.69, 'bmi': 36.6, 'smoking_status': 'formerly smoked'}\n"
     ]
    }
   ],
   "source": [
    "print(example_data.to_dict('records')[0])"
   ]
  },
  {
   "cell_type": "markdown",
   "metadata": {},
   "source": [
    "### Generate Pipeline Predictions"
   ]
  },
  {
   "cell_type": "code",
   "execution_count": 32,
   "metadata": {},
   "outputs": [
    {
     "name": "stdout",
     "output_type": "stream",
     "text": [
      "[2022-06-02 23:49:15] - p96628 root 9 - INFO:Pipeline Prediction: 0\n",
      "[2022-06-02 23:49:15] - p96628 root 10 - INFO:Pipeline Prediction Probability: 0.73375\n"
     ]
    }
   ],
   "source": [
    "pipeline = joblib.load(\n",
    "    \"src/pipelines/RF_A_0.9507.joblib\"\n",
    ")  # Load pipeline using environment file path.\n",
    "prediction = pipeline.predict(example_data)[\n",
    "    0\n",
    "]  # Generate prediction using features_dataframe.\n",
    "try:\n",
    "    prediction_probability = pipeline.predict_proba(example_data)[\n",
    "        0\n",
    "    ].max()  # Generate prediction probability using features_dataframe.\n",
    "except AttributeError:\n",
    "    logger.error(\"Method predict_proba is not available for provided architecture.\")\n",
    "    prediction_probability = None  # Use dummy value.\n",
    "\n",
    "logger.info(f\"Pipeline Prediction: {prediction}\")\n",
    "logger.info(f\"Pipeline Prediction Probability: {np.round(prediction_probability, 5)}\")"
   ]
  }
 ],
 "metadata": {
  "interpreter": {
   "hash": "afc00ad18be8ca5e0e3b615939264131dcfeb885b2fa465e4e9da8714305be3a"
  },
  "kernelspec": {
   "display_name": "Python 3.6.15 ('clinical_consult')",
   "language": "python",
   "name": "python3"
  },
  "language_info": {
   "codemirror_mode": {
    "name": "ipython",
    "version": 3
   },
   "file_extension": ".py",
   "mimetype": "text/x-python",
   "name": "python",
   "nbconvert_exporter": "python",
   "pygments_lexer": "ipython3",
   "version": "3.6.15"
  },
  "orig_nbformat": 4
 },
 "nbformat": 4,
 "nbformat_minor": 2
}
